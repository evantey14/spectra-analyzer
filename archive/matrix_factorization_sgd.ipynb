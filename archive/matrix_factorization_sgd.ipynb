{
 "cells": [
  {
   "cell_type": "code",
   "execution_count": 1,
   "metadata": {},
   "outputs": [],
   "source": [
    "from datetime import datetime\n",
    "import tftables\n",
    "import tensorflow as tf\n",
    "import numpy as np"
   ]
  },
  {
   "cell_type": "code",
   "execution_count": 2,
   "metadata": {},
   "outputs": [],
   "source": [
    "def input_transform(tbl_batch):\n",
    "    data = tbl_batch['spectrum']\n",
    "    metals = tbl_batch['MH_ratio']\n",
    "\n",
    "    data_float = tf.to_float(data)\n",
    "    metals_float = tf.to_float(metals)\n",
    "\n",
    "    data_max = tf.reduce_max(data_float, axis=1)\n",
    "    normalized_data = tf.divide(data_float,\n",
    "                                tf.expand_dims(data_max, axis=1))\n",
    "    \n",
    "    return normalized_data, metals_float"
   ]
  },
  {
   "cell_type": "code",
   "execution_count": null,
   "metadata": {
    "scrolled": true
   },
   "outputs": [
    {
     "name": "stdout",
     "output_type": "stream",
     "text": [
      "iter \t a_index \t standard error (per el)\n",
      "0 \t 0 \t 0.37081346\n",
      "10 \t 10 \t 0.36100164\n",
      "20 \t 20 \t 0.36558855\n"
     ]
    }
   ],
   "source": [
    "NUM_SPECTRA = 8000\n",
    "BATCH_SIZE = 100\n",
    "NUM_FEATURES = 40\n",
    "\n",
    "LEARNING_RATE = 0.01\n",
    "\n",
    "NUM_ITERATIONS = 20000\n",
    "PRINT_FREQ = 10\n",
    "a_star = np.zeros((NUM_SPECTRA, NUM_FEATURES))\n",
    "b_star = np.zeros((NUM_FEATURES, 1569128))\n",
    "\n",
    "ses = []\n",
    "\n",
    "tf.reset_default_graph()\n",
    "\n",
    "with tf.device('/cpu:0'):\n",
    "    loader = tftables.load_dataset(filename='sample_8k.h5',\n",
    "                                   dataset_path='/spectra',\n",
    "                                   input_transform=input_transform,\n",
    "                                   batch_size=BATCH_SIZE,\n",
    "                                   cyclic=True,\n",
    "                                   ordered=True)\n",
    "    data_batch, metals_batch = loader.dequeue()\n",
    "\n",
    "    a = tf.get_variable('a',\n",
    "                        shape=(NUM_SPECTRA, NUM_FEATURES),\n",
    "                        dtype=tf.float32,\n",
    "                        initializer=tf.orthogonal_initializer)\n",
    "    b = tf.get_variable('b',\n",
    "                        shape=(NUM_FEATURES, 1569128), \n",
    "                        dtype=tf.float32,\n",
    "                        initializer=tf.orthogonal_initializer)\n",
    "    \n",
    "    a_indices = tf.placeholder(tf.int32, shape=(BATCH_SIZE,))\n",
    "    a_block = tf.gather(a, a_indices)\n",
    "    \n",
    "    product = tf.matmul(a_block, b)\n",
    "    squared_error = tf.reduce_mean(tf.abs(tf.subtract(data_batch, product)))\n",
    "\n",
    "    global_step = tf.Variable(0, trainable=False)\n",
    "    optimize = tf.train.AdamOptimizer(LEARNING_RATE).minimize(squared_error, global_step=global_step)\n",
    "\n",
    "    with tf.Session() as sess:\n",
    "        with loader.begin(sess):\n",
    "            sess.run(tf.global_variables_initializer())\n",
    "            print('iter', '\\t', 'a_index', '\\t', 'standard error (per el)')\n",
    "            for i in range(NUM_ITERATIONS):\n",
    "                a_block_index = i % int(NUM_SPECTRA/BATCH_SIZE)\n",
    "                a_start_index, a_stop_index = a_block_index*BATCH_SIZE, (a_block_index+1)*BATCH_SIZE\n",
    "                _, se, a_star[a_start_index:a_stop_index], b_star = sess.run(\n",
    "                    [optimize, squared_error, a_block, b],\n",
    "                    feed_dict={a_indices: range(a_start_index, a_stop_index)}\n",
    "                )\n",
    "                ses.append(se)\n",
    "                if i % PRINT_FREQ == 0:\n",
    "                    print(i, '\\t', a_block_index, '\\t', np.mean(ses))\n",
    "                    ses = []"
   ]
  },
  {
   "cell_type": "code",
   "execution_count": 4,
   "metadata": {},
   "outputs": [
    {
     "name": "stdout",
     "output_type": "stream",
     "text": [
      "Saved sgd-output-190430-220702.npz with metadata: [2.e+03 1.e+02 4.e+01 1.e-02]\n"
     ]
    }
   ],
   "source": [
    "# save info\n",
    "outfile_name = 'output-{}'.format(datetime.now().strftime('%y%m%d-%H%M%S'))\n",
    "metadata = np.array((NUM_SPECTRA, BATCH_SIZE, NUM_FEATURES, LEARNING_RATE))\n",
    "np.savez_compressed(outfile_name, metadata=metadata, a_star=a_star, b_star=b_star)\n",
    "print('Saved {}.npz with metadata: {}'.format(outfile_name, metadata))"
   ]
  }
 ],
 "metadata": {
  "kernelspec": {
   "display_name": "env",
   "language": "python",
   "name": "env"
  },
  "language_info": {
   "codemirror_mode": {
    "name": "ipython",
    "version": 3
   },
   "file_extension": ".py",
   "mimetype": "text/x-python",
   "name": "python",
   "nbconvert_exporter": "python",
   "pygments_lexer": "ipython3",
   "version": "3.5.2"
  }
 },
 "nbformat": 4,
 "nbformat_minor": 2
}
