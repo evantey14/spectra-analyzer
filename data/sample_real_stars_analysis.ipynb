{
 "cells": [
  {
   "cell_type": "code",
   "execution_count": null,
   "metadata": {},
   "outputs": [],
   "source": [
    "import matplotlib.pyplot as plt\n",
    "import numpy as np\n",
    "import tables\n",
    "\n",
    "%matplotlib inline"
   ]
  },
  {
   "cell_type": "code",
   "execution_count": null,
   "metadata": {},
   "outputs": [],
   "source": [
    "plt.rc('font', family='serif')\n",
    "plt.rc('xtick', labelsize=8)\n",
    "plt.rc('ytick', labelsize=8)\n",
    "plt.rc('axes', labelsize=8)\n",
    "plt.rc('figure', autolayout=True, dpi=300)\n",
    "plt.rc('lines', linewidth=1)\n",
    "plt.rc('legend', fontsize=8)"
   ]
  },
  {
   "cell_type": "code",
   "execution_count": null,
   "metadata": {},
   "outputs": [],
   "source": [
    "h5file = tables.open_file('sample_real_stars.h5', 'r')\n",
    "h5node = h5file.get_node('/spectra')"
   ]
  },
  {
   "cell_type": "markdown",
   "metadata": {},
   "source": [
    "# Spectra"
   ]
  },
  {
   "cell_type": "code",
   "execution_count": null,
   "metadata": {},
   "outputs": [],
   "source": [
    "N = 2000\n",
    "spectra = np.array([x['spectrum'] for x in h5node.iterrows(step=8000//N)])"
   ]
  },
  {
   "cell_type": "code",
   "execution_count": null,
   "metadata": {},
   "outputs": [],
   "source": [
    "# Preprocess\n",
    "sqrt = np.sqrt(spectra)\n",
    "sums = spectra.sum(axis=1)\n",
    "sqrtsums = np.sqrt(spectra).sum(axis=1)\n",
    "As = .02 * sums / (np.sqrt(2 / 3.14) * sqrtsums)\n",
    "noise = np.random.normal(scale=(np.repeat(As[:, np.newaxis], spectra.shape[1], axis=1) * sqrt))\n",
    "print((np.abs(noise).sum(axis=1) / spectra.sum(axis=1)))\n",
    "spectra = (spectra + noise) / np.max(spectra + noise, axis=1)[:, np.newaxis]"
   ]
  },
  {
   "cell_type": "code",
   "execution_count": null,
   "metadata": {},
   "outputs": [],
   "source": [
    "# This doesn't look quite correct for some reason?\n",
    "# When I look for H alpha, it's a bit off.\n",
    "lambdas = np.linspace(500, 55000, spectra.shape[1])"
   ]
  },
  {
   "cell_type": "code",
   "execution_count": null,
   "metadata": {},
   "outputs": [],
   "source": [
    "spectra.shape[1]"
   ]
  },
  {
   "cell_type": "code",
   "execution_count": null,
   "metadata": {},
   "outputs": [],
   "source": [
    "current_lambda = 500\n",
    "lambdas = [500]\n",
    "for i in range(1, spectra.shape[1]):\n",
    "    if current_lambda >= 500 and current_lambda <= 3000:\n",
    "        current_lambda += .1\n",
    "    elif current_lambda > 3000 and current_lambda <= 25000:\n",
    "        delta = current_lambda / 650000\n",
    "        current_lambda += delta\n",
    "    elif current_lambda > 25000 and current_lambda <= 55000:\n",
    "        delta = current_lambda / 250000\n",
    "        current_lambda += delta\n",
    "    lambdas.append(current_lambda)"
   ]
  },
  {
   "cell_type": "code",
   "execution_count": null,
   "metadata": {},
   "outputs": [],
   "source": [
    "plt.plot(lambdas)"
   ]
  },
  {
   "cell_type": "code",
   "execution_count": null,
   "metadata": {},
   "outputs": [],
   "source": [
    "lambdas1 = np.arange(500, 3000, .1)\n",
    "lambdas2 = np.linspace(3000, 25000, 5*257355)\n",
    "lambdas3 = np.linspace(25000, 55000, 257355)\n",
    "lambdas = np.concatenate([lambdas1, lambdas2, lambdas3])[:-2]"
   ]
  },
  {
   "cell_type": "code",
   "execution_count": null,
   "metadata": {},
   "outputs": [],
   "source": [
    "plt.plot(lambdas)"
   ]
  },
  {
   "cell_type": "code",
   "execution_count": null,
   "metadata": {
    "scrolled": false
   },
   "outputs": [],
   "source": [
    "plt.figure(figsize=(6, 6))\n",
    "plt.subplot(3, 1, 1)\n",
    "for spectrum in spectra[:5]:\n",
    "    plt.plot(lambdas, spectrum, alpha=.75)\n",
    "    \n",
    "plt.xlabel('Wavelength $[\\AA]$')\n",
    "plt.ylabel('Normalized flux')\n",
    "\n",
    "plt.subplot(3, 1, 2)\n",
    "for spectrum in spectra[:5]:\n",
    "    plt.plot(lambdas[700000:700000+2**15], spectrum[700000:700000+2**15], alpha=.75)\n",
    "    \n",
    "plt.xlabel('Wavelength $[\\AA]$')\n",
    "plt.ylabel('Normalized flux')\n",
    "\n",
    "plt.subplot(3, 1, 3)\n",
    "for spectrum in spectra[:5]:\n",
    "    plt.plot(lambdas[712000:714000], spectrum[712000:714000], alpha=.75)\n",
    "    \n",
    "plt.xlabel('Wavelength $[\\AA]$')\n",
    "plt.ylabel('Normalized flux')\n",
    "\n",
    "plt.show()"
   ]
  },
  {
   "cell_type": "code",
   "execution_count": null,
   "metadata": {},
   "outputs": [],
   "source": [
    "# TODO: focus on dip (plot spectra w different metallicities)"
   ]
  },
  {
   "cell_type": "code",
   "execution_count": null,
   "metadata": {},
   "outputs": [],
   "source": [
    "s2 = (spectra @ spectra.T)"
   ]
  },
  {
   "cell_type": "code",
   "execution_count": null,
   "metadata": {},
   "outputs": [],
   "source": [
    "u, s, vh = np.linalg.svd(s2)"
   ]
  },
  {
   "cell_type": "code",
   "execution_count": null,
   "metadata": {},
   "outputs": [],
   "source": [
    "plt.figure(figsize=(3, 3))\n",
    "\n",
    "plt.bar(range(1, 1+5), 100 * s[:5] / np.sum(s))\n",
    "\n",
    "plt.xlabel('singular value index')\n",
    "plt.xticks(range(1, 1+5))\n",
    "\n",
    "plt.ylabel('% variability explained')\n",
    "#plt.yticks(range(0, 100, 10))\n",
    "#plt.ylim(0, 100)\n",
    "plt.ylim(.01, 100)\n",
    "plt.yscale('log')\n",
    "\n",
    "plt.show()\n",
    "\n",
    "print(np.round(100 * s[:7] / np.sum(s), 1))"
   ]
  },
  {
   "cell_type": "markdown",
   "metadata": {},
   "source": [
    "# Labels"
   ]
  },
  {
   "cell_type": "code",
   "execution_count": null,
   "metadata": {},
   "outputs": [],
   "source": [
    "N = 8000\n",
    "labels = np.array([\n",
    "    (x['MH_ratio'], x['T_eff'], x['alphaM_ratio'], x['log_g']) \n",
    "    for x in h5node.iterrows(step=8000//N)]\n",
    ")"
   ]
  },
  {
   "cell_type": "code",
   "execution_count": null,
   "metadata": {},
   "outputs": [],
   "source": [
    "MH_ratios, T_effs, alphaM_ratios, log_gs = labels.T"
   ]
  },
  {
   "cell_type": "code",
   "execution_count": null,
   "metadata": {},
   "outputs": [],
   "source": [
    "plt.figure(figsize=(4, 4))\n",
    "plt.subplot(2, 2, 1)\n",
    "plt.hist(MH_ratios)\n",
    "plt.xlabel(r'$[Fe/H]$')\n",
    "\n",
    "plt.subplot(2, 2, 2)\n",
    "plt.hist(T_effs)\n",
    "plt.xlabel(r'$T_{eff} [K]$')\n",
    "\n",
    "plt.subplot(2, 2, 3)\n",
    "plt.hist(alphaM_ratios)\n",
    "plt.xlabel(r'$[ \\alpha / H]$')\n",
    "\n",
    "plt.subplot(2, 2, 4)\n",
    "plt.hist(log_gs)\n",
    "plt.xlabel(r'$\\log g$')\n",
    "\n",
    "plt.tight_layout()"
   ]
  },
  {
   "cell_type": "code",
   "execution_count": null,
   "metadata": {},
   "outputs": [],
   "source": [
    "plt.figure(figsize=(9, 9))\n",
    "axes_labels = ['$[Fe/H]$', '$T_{eff}$', r'$[\\alpha / H]$', '$\\log g$']\n",
    "for i in range(4):\n",
    "    for j in range(i):\n",
    "        plt.subplot(3, 3, 3*(i-1)+j+1)\n",
    "        plt.hist2d(labels[:, j], labels[:, i], cmap='inferno')\n",
    "        plt.xlabel(axes_labels[j])\n",
    "        plt.ylabel(axes_labels[i])\n",
    "        \n",
    "plt.tight_layout()\n",
    "plt.show()"
   ]
  }
 ],
 "metadata": {
  "kernelspec": {
   "display_name": "Python 3",
   "language": "python",
   "name": "python3"
  },
  "language_info": {
   "codemirror_mode": {
    "name": "ipython",
    "version": 3
   },
   "file_extension": ".py",
   "mimetype": "text/x-python",
   "name": "python",
   "nbconvert_exporter": "python",
   "pygments_lexer": "ipython3",
   "version": "3.6.3"
  }
 },
 "nbformat": 4,
 "nbformat_minor": 2
}
