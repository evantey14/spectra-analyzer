{
 "cells": [
  {
   "cell_type": "code",
   "execution_count": null,
   "metadata": {},
   "outputs": [],
   "source": [
    "import matplotlib.pyplot as plt\n",
    "import numpy as np\n",
    "import tables\n",
    "\n",
    "%matplotlib inline"
   ]
  },
  {
   "cell_type": "code",
   "execution_count": null,
   "metadata": {},
   "outputs": [],
   "source": [
    "plt.rc('font', family='serif')\n",
    "plt.rc('xtick', labelsize=12)\n",
    "plt.rc('ytick', labelsize=12)\n",
    "plt.rc('axes', labelsize=12)"
   ]
  },
  {
   "cell_type": "code",
   "execution_count": null,
   "metadata": {},
   "outputs": [],
   "source": [
    "h5file = tables.open_file('sample_short.h5', 'r')\n",
    "h5node = h5file.get_node('/spectra')"
   ]
  },
  {
   "cell_type": "markdown",
   "metadata": {},
   "source": [
    "# Spectra"
   ]
  },
  {
   "cell_type": "code",
   "execution_count": null,
   "metadata": {},
   "outputs": [],
   "source": [
    "spectra = np.array([x['spectrum'] for x in h5node.iterrows(step=2)])"
   ]
  },
  {
   "cell_type": "code",
   "execution_count": null,
   "metadata": {},
   "outputs": [],
   "source": [
    "# Preprocess\n",
    "sqrt = np.sqrt(spectra)\n",
    "sums = spectra.sum(axis=1)\n",
    "sqrtsums = np.sqrt(spectra).sum(axis=1)\n",
    "As = .02 * sums / (np.sqrt(2 / 3.14) * sqrtsums)\n",
    "noise = np.random.normal(scale=(np.repeat(As[:, np.newaxis], spectra.shape[1], axis=1) * sqrt))\n",
    "print((np.abs(noise).sum(axis=1) / spectra.sum(axis=1)))\n",
    "spectra = (spectra + noise) / np.max(spectra + noise, axis=1)[:, np.newaxis]"
   ]
  },
  {
   "cell_type": "code",
   "execution_count": null,
   "metadata": {},
   "outputs": [],
   "source": [
    "lambdas = np.linspace(500, 55000, 1569128)[700000:700000+2**15]"
   ]
  },
  {
   "cell_type": "code",
   "execution_count": null,
   "metadata": {
    "scrolled": false
   },
   "outputs": [],
   "source": [
    "plt.figure(figsize=(16, 6))\n",
    "\n",
    "for spectrum in spectra[:5]:\n",
    "    plt.plot(lambdas, spectrum)\n",
    "    \n",
    "plt.xlabel('$\\lambda [\\AA]$')\n",
    "plt.ylabel('Normalized flux')\n",
    "#plt.ylabel('Flux [$erg/s/cm^2/\\AA$]')\n",
    "\n",
    "plt.show()"
   ]
  },
  {
   "cell_type": "code",
   "execution_count": null,
   "metadata": {},
   "outputs": [],
   "source": [
    "# TODO: focus on dip (plot spectra w different metallicities)"
   ]
  },
  {
   "cell_type": "code",
   "execution_count": null,
   "metadata": {},
   "outputs": [],
   "source": [
    "s2 = (spectra @ spectra.T)"
   ]
  },
  {
   "cell_type": "code",
   "execution_count": null,
   "metadata": {},
   "outputs": [],
   "source": [
    "u, s, vh = np.linalg.svd(s2)"
   ]
  },
  {
   "cell_type": "code",
   "execution_count": null,
   "metadata": {},
   "outputs": [],
   "source": [
    "plt.bar(range(1, 1+7), 100 * s[:7] / np.sum(s))\n",
    "\n",
    "plt.xlabel('singular value index')\n",
    "plt.xticks(range(1, 1+7))\n",
    "\n",
    "plt.ylabel('% variability explained')\n",
    "plt.yticks(range(0, 100, 10))\n",
    "plt.ylim(0, 100)\n",
    "\n",
    "plt.show()\n",
    "\n",
    "print(np.round(100 * s[:7] / np.sum(s), 1))"
   ]
  },
  {
   "cell_type": "markdown",
   "metadata": {},
   "source": [
    "# Labels"
   ]
  },
  {
   "cell_type": "code",
   "execution_count": null,
   "metadata": {},
   "outputs": [],
   "source": [
    "N = 16000\n",
    "labels = np.array([\n",
    "    (x['MH_ratio'], x['T_eff'], x['alphaM_ratio'], x['log_g']) \n",
    "    for x in h5node.iterrows(step=1)]\n",
    ")"
   ]
  },
  {
   "cell_type": "code",
   "execution_count": null,
   "metadata": {},
   "outputs": [],
   "source": [
    "MH_ratios, T_effs, alphaM_ratios, log_gs = labels.T"
   ]
  },
  {
   "cell_type": "code",
   "execution_count": null,
   "metadata": {},
   "outputs": [],
   "source": [
    "plt.figure(figsize=(6, 6))\n",
    "plt.subplot(2, 2, 1)\n",
    "plt.hist(MH_ratios)\n",
    "plt.xlabel('$[Fe/H]$')\n",
    "\n",
    "plt.subplot(2, 2, 2)\n",
    "plt.hist(T_effs)\n",
    "plt.xlabel('$T_{eff} [K]$')\n",
    "\n",
    "plt.subplot(2, 2, 3)\n",
    "plt.hist(alphaM_ratios)\n",
    "plt.xlabel('$[ \\alpha / H]$')\n",
    "\n",
    "plt.subplot(2, 2, 4)\n",
    "plt.hist(log_gs)\n",
    "plt.xlabel('$\\log g$')\n",
    "\n",
    "plt.tight_layout()"
   ]
  },
  {
   "cell_type": "code",
   "execution_count": null,
   "metadata": {},
   "outputs": [],
   "source": [
    "plt.figure(figsize=(9, 9))\n",
    "axes_labels = ['$[Fe/H]$', '$T_{eff}$', '$[\\alpha / H]$', '$\\log g$']\n",
    "for i in range(4):\n",
    "    for j in range(i):\n",
    "        plt.subplot(3, 3, 3*(i-1)+j+1)\n",
    "        plt.hist2d(labels[:, j], labels[:, i], cmap='inferno')\n",
    "        plt.xlabel(axes_labels[j])\n",
    "        plt.ylabel(axes_labels[i])\n",
    "        \n",
    "plt.tight_layout()\n",
    "plt.show()"
   ]
  }
 ],
 "metadata": {
  "kernelspec": {
   "display_name": "Python 3",
   "language": "python",
   "name": "python3"
  },
  "language_info": {
   "codemirror_mode": {
    "name": "ipython",
    "version": 3
   },
   "file_extension": ".py",
   "mimetype": "text/x-python",
   "name": "python",
   "nbconvert_exporter": "python",
   "pygments_lexer": "ipython3",
   "version": "3.6.3"
  }
 },
 "nbformat": 4,
 "nbformat_minor": 2
}
