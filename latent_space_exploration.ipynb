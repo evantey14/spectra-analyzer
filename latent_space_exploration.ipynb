{
 "cells": [
  {
   "cell_type": "code",
   "execution_count": null,
   "metadata": {
    "scrolled": true
   },
   "outputs": [],
   "source": [
    "import corner\n",
    "import numpy as np\n",
    "import tensorflow as tf\n",
    "import matplotlib.pyplot as plt\n",
    "from tqdm.notebook import tqdm\n",
    "from scipy.ndimage.filters import gaussian_filter\n",
    "\n",
    "from analysis_utils import *\n",
    "from data import data_loader, toy_data\n",
    "import glow as model\n",
    "\n",
    "%matplotlib inline\n",
    "%load_ext autoreload\n",
    "%autoreload 2"
   ]
  },
  {
   "cell_type": "code",
   "execution_count": null,
   "metadata": {},
   "outputs": [],
   "source": [
    "plt.rc('font', family='serif')\n",
    "plt.rc('xtick', labelsize=8)\n",
    "plt.rc('ytick', labelsize=8)\n",
    "plt.rc('axes', labelsize=8)\n",
    "plt.rc('figure', autolayout=True, dpi=300)\n",
    "plt.rc('lines', linewidth=1)\n",
    "plt.rc('legend', fontsize=8)"
   ]
  },
  {
   "cell_type": "code",
   "execution_count": null,
   "metadata": {},
   "outputs": [],
   "source": [
    "class hps:\n",
    "    pass\n",
    "hps.n_levels = 13 # number of splits\n",
    "hps.depth = 6 # number of flow steps in each level\n",
    "hps.final_depth = 64 # number of flow steps in the final level\n",
    "hps.width = 32 # channels in revnet layers\n",
    "hps.n_data = 16000 # number of input spectra\n",
    "hps.batch_size = 50 # number of spectra in a batch\n",
    "hps.n_batches = int(hps.n_data / hps.batch_size)\n",
    "hps.n_bins = 2**15"
   ]
  },
  {
   "cell_type": "code",
   "execution_count": null,
   "metadata": {},
   "outputs": [],
   "source": [
    "sess = tf.compat.v1.InteractiveSession()\n",
    "tf.compat.v1.disable_eager_execution()"
   ]
  },
  {
   "cell_type": "code",
   "execution_count": null,
   "metadata": {},
   "outputs": [],
   "source": [
    "data_source = 'real'"
   ]
  },
  {
   "cell_type": "code",
   "execution_count": null,
   "metadata": {},
   "outputs": [],
   "source": [
    "if data_source == 'toy':\n",
    "    spectra, labels = toy_data.generate_spectra(hps.n_data, hps.n_bins)\n",
    "    labels = labels[:, 1:3] # ignore temperature and sigma (leaving A, mu)\n",
    "    input_stream, label_stream, initialize_stream = (\n",
    "        data_loader.create_loader_from_array(sess, hps.batch_size, spectra, labels)\n",
    "    )\n",
    "elif data_source == 'real':\n",
    "    input_stream, label_stream, initialize_stream = (\n",
    "        data_loader.create_loader_from_hdf5(sess, hps.batch_size, 'data/sample_short.h5')\n",
    "    )"
   ]
  },
  {
   "cell_type": "code",
   "execution_count": null,
   "metadata": {
    "scrolled": true
   },
   "outputs": [],
   "source": [
    "initialize_stream()\n",
    "spectra = sess.run(input_stream)\n",
    "labels = sess.run(label_stream)"
   ]
  },
  {
   "cell_type": "code",
   "execution_count": null,
   "metadata": {},
   "outputs": [],
   "source": [
    "window = (0, hps.n_bins)\n",
    "#window = (int(hps.n_bins*.4), int(hps.n_bins*.6)) \n",
    "window = (13350, 13400)\n",
    "\n",
    "lambdas = np.arange(0, hps.n_bins) # remap bins to wavelengths here\n",
    "#lambdas = np.linspace(0, 30000, 2**12) # in angstrom"
   ]
  },
  {
   "cell_type": "code",
   "execution_count": null,
   "metadata": {
    "scrolled": true
   },
   "outputs": [],
   "source": [
    "plt.figure(figsize=(12, 6))\n",
    "# figure out where the window should be\n",
    "\n",
    "plot_window(lambdas, \n",
    "            sort_spectra(spectra, labels, 2)[0][:5], \n",
    "            window=(window[0]-750, window[1]+100))\n",
    "plt.axvline(13350, color='k')\n",
    "plt.axvline(13400, color='k')"
   ]
  },
  {
   "cell_type": "code",
   "execution_count": null,
   "metadata": {},
   "outputs": [],
   "source": [
    "# define function wrapper\n",
    "find = lambda label: find_spectra(label, hps.n_batches, sess, input_stream, label_stream)"
   ]
  },
  {
   "cell_type": "code",
   "execution_count": null,
   "metadata": {},
   "outputs": [],
   "source": [
    "label = np.array([np.nan, np.nan, np.nan, np.nan]).astype('float32')\n",
    "spectra, labels = find(label)"
   ]
  },
  {
   "cell_type": "code",
   "execution_count": null,
   "metadata": {},
   "outputs": [],
   "source": [
    "print(\"Temperature options:\", np.unique(labels[:, 0]))\n",
    "print(\"log g options:\", np.unique(labels[:, 1]))\n",
    "print(\"Fe/H options:\", np.unique(labels[:, 2]))\n",
    "print(\"alpha/H options:\", np.unique(labels[:, 3]))"
   ]
  },
  {
   "cell_type": "code",
   "execution_count": null,
   "metadata": {},
   "outputs": [],
   "source": [
    "# T_eff, log_g, fe/h, alpha/h\n",
    "label = np.array([6000, 3, np.nan, np.nan]).astype('float32')\n",
    "spectra, labels = sort_spectra(*find(label), 3) # sort by fe/h\n",
    "print(spectra.shape, labels.shape)"
   ]
  },
  {
   "cell_type": "code",
   "execution_count": null,
   "metadata": {},
   "outputs": [],
   "source": [
    "plt.figure(figsize=(6, 2))\n",
    "plot_window(lambdas, spectra,\n",
    "            window=(window[0]-100, window[1]+100))\n",
    "plt.axvline(window[0], color='k')\n",
    "plt.axvline(window[1], color='k')"
   ]
  },
  {
   "cell_type": "code",
   "execution_count": null,
   "metadata": {
    "scrolled": false
   },
   "outputs": [],
   "source": [
    "i = np.random.randint(0, len(spectra))\n",
    "spectrum = spectra[i:i+1, :, :]\n",
    "label = labels[i]\n",
    "print(i, label)"
   ]
  },
  {
   "cell_type": "code",
   "execution_count": null,
   "metadata": {},
   "outputs": [],
   "source": [
    "plt.figure(figsize=(6, 2))\n",
    "plot_window(lambdas, spectrum,\n",
    "            window=(window[0]-100, window[1]+100),\n",
    "            )\n",
    "plt.axvline(window[0], color='k')\n",
    "plt.axvline(window[1], color='k')\n",
    "plt.legend()"
   ]
  },
  {
   "cell_type": "code",
   "execution_count": null,
   "metadata": {
    "scrolled": true
   },
   "outputs": [],
   "source": [
    "with tf.device(\"/device:GPU:0\"):\n",
    "    m = model.model(sess, hps, input_stream)"
   ]
  },
  {
   "cell_type": "code",
   "execution_count": null,
   "metadata": {},
   "outputs": [],
   "source": [
    "m.restore('models/model-200716-234221')"
   ]
  },
  {
   "cell_type": "code",
   "execution_count": null,
   "metadata": {},
   "outputs": [],
   "source": [
    "latent_rep, intermediate_zs = m.encode(spectrum)\n",
    "reconstruction = m.decode(latent_rep)"
   ]
  },
  {
   "cell_type": "code",
   "execution_count": null,
   "metadata": {},
   "outputs": [],
   "source": [
    "m.create_peak_remover(window, spectrum)"
   ]
  },
  {
   "cell_type": "code",
   "execution_count": null,
   "metadata": {},
   "outputs": [],
   "source": [
    "grads = []\n",
    "latent_reps = [latent_rep]"
   ]
  },
  {
   "cell_type": "code",
   "execution_count": null,
   "metadata": {
    "scrolled": true
   },
   "outputs": [],
   "source": [
    "for _ in tqdm(range(100)):\n",
    "    z, grad = m.remove_peak(latent_reps[-1], .01)\n",
    "    latent_reps.append(z)\n",
    "    grads.append(grad)"
   ]
  },
  {
   "cell_type": "code",
   "execution_count": null,
   "metadata": {},
   "outputs": [],
   "source": [
    "# exploration analysis\n",
    "latent_reps_np = np.array(latent_reps).reshape((len(latent_reps), -1))\n",
    "grads_np = np.array(grads).reshape((len(grads), -1))\n",
    "print_freq = int(len(grads) / 10) # when plotting changes over time, plot around 10 things"
   ]
  },
  {
   "cell_type": "code",
   "execution_count": null,
   "metadata": {
    "scrolled": false
   },
   "outputs": [],
   "source": [
    "plt.figure(figsize=(6, 6))\n",
    "\n",
    "plt.subplot(3, 2, 1)\n",
    "plt.plot(latent_reps_np.mean(axis=0))\n",
    "plt.xlabel('component position')\n",
    "plt.ylabel('latent rep (avg over steps)')\n",
    "\n",
    "plt.subplot(3, 2, 2)\n",
    "plt.plot(grads_np.mean(axis=0))\n",
    "plt.xlabel('component position')\n",
    "plt.ylabel('gradient (avg over steps)')\n",
    "\n",
    "plt.subplot(3, 2, 3)\n",
    "plt.plot([np.linalg.norm(l) for l in latent_reps])\n",
    "plt.xlabel('step')\n",
    "plt.ylabel('norm of latent representation')\n",
    "\n",
    "plt.subplot(3, 2, 4)\n",
    "plt.plot([np.linalg.norm(g) for g in grads])\n",
    "plt.xlabel('step')\n",
    "plt.ylabel('norm of gradient')\n",
    "\n",
    "plt.subplot(3, 2, 5)\n",
    "for i in range(0, len(latent_reps), print_freq):\n",
    "    plt.plot(latent_reps_np[i])\n",
    "plt.xlabel('component position')\n",
    "plt.ylabel('latent rep over time')\n",
    "\n",
    "plt.subplot(3, 2, 6)\n",
    "for i in range(0, len(grads), print_freq):\n",
    "    plt.plot(grads_np[i])\n",
    "plt.xlabel('component position')\n",
    "plt.ylabel('gradient over time')\n",
    "\n",
    "plt.tight_layout()"
   ]
  },
  {
   "cell_type": "code",
   "execution_count": null,
   "metadata": {},
   "outputs": [],
   "source": [
    "indices = np.arange(0, len(latent_reps), len(latent_reps) // 5)\n",
    "#indices = [25, 50, 75, 100]\n",
    "colors = plt.cm.viridis(np.linspace(0, 1, len(indices)))"
   ]
  },
  {
   "cell_type": "code",
   "execution_count": null,
   "metadata": {
    "scrolled": true
   },
   "outputs": [],
   "source": [
    "plt.figure(figsize=(6, 2))\n",
    "\n",
    "intermediate_spectra = [m.decode(latent_reps[index], intermediate_zs) for index in indices]\n",
    "\n",
    "plot_window(lambdas, [spectrum, *intermediate_spectra], \n",
    "            window=(window[0] - 100, window[1] + 100),\n",
    "            colors=['k', *colors], labels=['og', *indices])\n",
    "\n",
    "plt.axvline(window[0], color='k')\n",
    "plt.axvline(window[1], color='k')\n",
    "plt.xlabel('Wavelength $[\\AA]$')\n",
    "plt.ylabel('Normalized flux')\n",
    "plt.legend()"
   ]
  },
  {
   "cell_type": "code",
   "execution_count": null,
   "metadata": {},
   "outputs": [],
   "source": [
    "print(label)"
   ]
  },
  {
   "cell_type": "code",
   "execution_count": null,
   "metadata": {},
   "outputs": [],
   "source": [
    "comparison_label = [label[0], label[1], label[2], np.nan]\n",
    "comparison_spectra, comparison_labels = sort_spectra(*find(comparison_label), 3)\n",
    "comparison_spectra.shape, comparison_labels.shape"
   ]
  },
  {
   "cell_type": "code",
   "execution_count": null,
   "metadata": {},
   "outputs": [],
   "source": [
    "colors = plt.cm.viridis(np.linspace(0, 1, len(comparison_spectra)))\n",
    "\n",
    "plot_window(lambdas, comparison_spectra, \n",
    "            window=(window[0] - 100, window[1] + 100),\n",
    "            colors=colors,\n",
    "            labels=comparison_labels[:, 2])\n",
    "\n",
    "plot_window(lambdas, [intermediate_spectra[-1]],\n",
    "            window=(window[0] - 100, window[1] + 100),\n",
    "            colors=['r'], labels=['peak removed'])\n",
    "\n",
    "plt.axvline(window[0], color='k')\n",
    "plt.axvline(window[1], color='k')\n",
    "plt.legend()"
   ]
  },
  {
   "cell_type": "code",
   "execution_count": null,
   "metadata": {},
   "outputs": [],
   "source": [
    "label < 4"
   ]
  },
  {
   "cell_type": "code",
   "execution_count": null,
   "metadata": {},
   "outputs": [],
   "source": [
    "similar_spectra = []\n",
    "similar_labels = []\n",
    "for iteration in tqdm(range(hps.n_batches)):\n",
    "    spectra = sess.run(input_stream)\n",
    "    labels = sess.run(label_stream)\n",
    "    for i, s in enumerate(spectra):\n",
    "        if np.any(get_stats(intermediate_spectra[-1], s) < .032):\n",
    "            similar_spectra.append(s)\n",
    "            similar_labels.append(labels[i])\n",
    "    if len(similar_spectra) > 10:\n",
    "        break\n",
    "similar_spectra = np.array(similar_spectra)\n",
    "similar_labels = np.array(similar_labels)\n",
    "print(similar_spectra.shape, similar_labels.shape)"
   ]
  },
  {
   "cell_type": "code",
   "execution_count": null,
   "metadata": {},
   "outputs": [],
   "source": [
    "for s in similar_spectra:\n",
    "    print(get_stats(s, intermediate_spectra[-1]))"
   ]
  },
  {
   "cell_type": "code",
   "execution_count": null,
   "metadata": {},
   "outputs": [],
   "source": [
    "colors = plt.cm.viridis(np.linspace(0, 1, len(similar_spectra)))\n",
    "\n",
    "plot_window(lambdas, similar_spectra[:10], \n",
    "            window=(window[0] - 700, window[1] + 100),\n",
    "            colors=colors,\n",
    "            labels=similar_labels)\n",
    "\n",
    "plot_window(lambdas, [intermediate_spectra[-1]],\n",
    "            window=(window[0] - 700, window[1] + 100),\n",
    "            colors=['r'], labels=['peak removed'])\n",
    "\n",
    "plt.axvline(window[0], color='k')\n",
    "plt.axvline(window[1], color='k')\n",
    "plt.legend()"
   ]
  },
  {
   "cell_type": "code",
   "execution_count": null,
   "metadata": {},
   "outputs": [],
   "source": [
    "# for debugging"
   ]
  },
  {
   "cell_type": "code",
   "execution_count": null,
   "metadata": {},
   "outputs": [],
   "source": [
    "def blur(s, sigma=3):\n",
    "    return gaussian_filter(s.squeeze(), sigma=sigma)\n",
    "\n",
    "def differentiate(s):\n",
    "    bins = len(s.squeeze())\n",
    "    return np.convolve(s.squeeze(), [-bins/2, 0, bins/2], mode='same')"
   ]
  },
  {
   "cell_type": "code",
   "execution_count": null,
   "metadata": {},
   "outputs": [],
   "source": [
    "plt.figure(figsize=(6, 2))\n",
    "s = intermediate_spectra[-1]\n",
    "plot_window(lambdas,\n",
    "            [\n",
    "                spectrum,\n",
    "                s,\n",
    "                #blur(s),\n",
    "                #differentiate(blur(s)) / 750,\n",
    "                #blur(differentiate(blur(s))) / 750,\n",
    "                differentiate(blur(differentiate(blur(spectrum)))) / 5000000,\n",
    "                differentiate(blur(differentiate(blur(s)))) / 5000000\n",
    "            ], \n",
    "            window=[window[0]-100, window[1]+100])\n",
    "plt.axvline(window[0], color='k')\n",
    "plt.axvline(window[1], color='k')"
   ]
  }
 ],
 "metadata": {
  "kernelspec": {
   "display_name": "env",
   "language": "python",
   "name": "env"
  },
  "language_info": {
   "codemirror_mode": {
    "name": "ipython",
    "version": 3
   },
   "file_extension": ".py",
   "mimetype": "text/x-python",
   "name": "python",
   "nbconvert_exporter": "python",
   "pygments_lexer": "ipython3",
   "version": "3.5.2"
  }
 },
 "nbformat": 4,
 "nbformat_minor": 2
}
