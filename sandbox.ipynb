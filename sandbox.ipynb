{
 "cells": [
  {
   "cell_type": "code",
   "execution_count": 2,
   "metadata": {},
   "outputs": [],
   "source": [
    "import ipywidgets as widgets"
   ]
  },
  {
   "cell_type": "code",
   "execution_count": 3,
   "metadata": {},
   "outputs": [
    {
     "data": {
      "application/vnd.jupyter.widget-view+json": {
       "model_id": "1f75b48148c34d5497ff5366790fe8df",
       "version_major": 2,
       "version_minor": 0
      },
      "text/plain": [
       "IntRangeSlider(value=(5, 7), continuous_update=False, description='Test:', max=32768, step=64)"
      ]
     },
     "metadata": {},
     "output_type": "display_data"
    }
   ],
   "source": [
    "widgets.IntRangeSlider(\n",
    "    value=[5, 7],\n",
    "    min=0,\n",
    "    max=2**15,\n",
    "    step=2**6,\n",
    "    description='Test:',\n",
    "    disabled=False,\n",
    "    continuous_update=False,\n",
    "    orientation='horizontal',\n",
    "    readout=True,\n",
    "    readout_format='d',\n",
    ")"
   ]
  },
  {
   "cell_type": "code",
   "execution_count": 4,
   "metadata": {},
   "outputs": [],
   "source": [
    "from data import toy_data\n",
    "import numpy as np\n",
    "import matplotlib.pyplot as plt\n",
    "\n",
    "%matplotlib notebook"
   ]
  },
  {
   "cell_type": "code",
   "execution_count": 5,
   "metadata": {
    "scrolled": true
   },
   "outputs": [
    {
     "data": {
      "image/png": "[encoded data removed]",
      "text/plain": [
       "<Figure size 432x288 with 1 Axes>"
      ]
     },
     "metadata": {
      "needs_background": "light"
     },
     "output_type": "display_data"
    }
   ],
   "source": [
    "plt.plot([x for x in range(2**15)])\n",
    "plt.show()"
   ]
  },
  {
   "cell_type": "code",
   "execution_count": null,
   "metadata": {},
   "outputs": [],
   "source": [
    "plt.rc('font', family='serif')\n",
    "plt.rc('xtick', labelsize=8)\n",
    "plt.rc('ytick', labelsize=8)\n",
    "plt.rc('axes', labelsize=8)\n",
    "plt.rc('figure', autolayout=True, dpi=300)\n",
    "plt.rc('lines', linewidth=1)\n",
    "plt.rc('legend', fontsize=8)"
   ]
  },
  {
   "cell_type": "code",
   "execution_count": null,
   "metadata": {
    "scrolled": false
   },
   "outputs": [],
   "source": [
    "plt.figure(figsize=(6, 3))\n",
    "T = 3000\n",
    "wavelengths = np.linspace(0, 3e-6, num=2**12+1)[1:]\n",
    "for T in [4000, 5000, 6000]:\n",
    "    plt.plot(wavelengths / 1e-6, toy_data.planck(wavelengths, T), label='T = {} K'.format(T))\n",
    "    \n",
    "plt.xlabel('Wavelength [$\\mu$m]')\n",
    "\n",
    "plt.ylabel('Spectral radiance [W sr$^{-1}$ m$^{-3}$]')\n",
    "plt.legend()\n"
   ]
  },
  {
   "cell_type": "code",
   "execution_count": 1,
   "metadata": {},
   "outputs": [],
   "source": [
    "%load_ext autoreload\n",
    "%autoreload 2\n",
    "%matplotlib inline\n",
    "\n",
    "import matplotlib.pyplot as plt\n",
    "import numpy as np\n",
    "import tables"
   ]
  },
  {
   "cell_type": "code",
   "execution_count": 3,
   "metadata": {},
   "outputs": [],
   "source": [
    "h5file = tables.open_file('data/sample_short.h5', 'r')\n",
    "#h5file = tables.open_file('sample_real_stars.h5', 'r')\n",
    "h5node = h5file.get_node('/spectra')"
   ]
  },
  {
   "cell_type": "code",
   "execution_count": 4,
   "metadata": {},
   "outputs": [
    {
     "data": {
      "text/plain": [
       "/spectra (Table(16000,), shuffle, blosc(9)) ''\n",
       "  description := {\n",
       "  \"MH_ratio\": Float64Col(shape=(), dflt=0.0, pos=0),\n",
       "  \"T_eff\": Float64Col(shape=(), dflt=0.0, pos=1),\n",
       "  \"abundances\": Float64Col(shape=(83,), dflt=0.0, pos=2),\n",
       "  \"alphaM_ratio\": Float64Col(shape=(), dflt=0.0, pos=3),\n",
       "  \"log_g\": Float64Col(shape=(), dflt=0.0, pos=4),\n",
       "  \"row_id\": Int32Col(shape=(), dflt=0, pos=5),\n",
       "  \"spectrum\": Float32Col(shape=(32768,), dflt=0.0, pos=6)}\n",
       "  byteorder := 'little'\n",
       "  chunkshape := (3,)"
      ]
     },
     "execution_count": 4,
     "metadata": {},
     "output_type": "execute_result"
    }
   ],
   "source": [
    "h5node"
   ]
  },
  {
   "cell_type": "code",
   "execution_count": null,
   "metadata": {},
   "outputs": [],
   "source": [
    "spectra = np.array([x['spectrum'] for x in h5node.iterrows(step=8000//20)])"
   ]
  },
  {
   "cell_type": "code",
   "execution_count": null,
   "metadata": {},
   "outputs": [],
   "source": [
    "current_lambda = 500\n",
    "lambdas = [500]\n",
    "for i in range(1, spectra.shape[1]):\n",
    "    if current_lambda >= 500 and current_lambda <= 3000:\n",
    "        current_lambda += .1\n",
    "    elif current_lambda > 3000 and current_lambda <= 25000:\n",
    "        delta = current_lambda / 650000\n",
    "        current_lambda += delta\n",
    "    elif current_lambda > 25000 and current_lambda <= 55000:\n",
    "        delta = current_lambda / 250000\n",
    "        current_lambda += delta\n",
    "    lambdas.append(current_lambda)"
   ]
  },
  {
   "cell_type": "code",
   "execution_count": null,
   "metadata": {},
   "outputs": [],
   "source": [
    "plt.figure(figsize=(6, 3))\n",
    "plt.plot(lambdas[711000:715000], spectra[3][711000:715000])\n",
    "plt.plot(lambdas[711000:715000], spectra[18][711000:715000])\n",
    "plt.xlabel('Wavelength [$\\mu$m]')\n",
    "plt.ylabel('Spectral radiance [W sr$^{-1}$ m$^{-3}$]')"
   ]
  },
  {
   "cell_type": "code",
   "execution_count": null,
   "metadata": {},
   "outputs": [],
   "source": [
    "plt.figure(figsize=(10, 10))\n",
    "for i in range(len(spectra)):\n",
    "    plt.plot(spectra[i][712000:714000], label=i)\n",
    "plt.legend()"
   ]
  },
  {
   "cell_type": "code",
   "execution_count": null,
   "metadata": {},
   "outputs": [],
   "source": [
    "np.save('test', spectra)"
   ]
  },
  {
   "cell_type": "code",
   "execution_count": null,
   "metadata": {},
   "outputs": [],
   "source": [
    "np.savez_compressed('test', spectra=spectra)"
   ]
  },
  {
   "cell_type": "code",
   "execution_count": null,
   "metadata": {},
   "outputs": [],
   "source": [
    "for spectrum in spectra[:5]:\n",
    "    plt.plot(spectrum)"
   ]
  },
  {
   "cell_type": "code",
   "execution_count": null,
   "metadata": {},
   "outputs": [],
   "source": [
    "normalized_spectra = spectra / np.max(spectra, axis=1)[:, np.newaxis]"
   ]
  },
  {
   "cell_type": "code",
   "execution_count": null,
   "metadata": {},
   "outputs": [],
   "source": [
    "for spectrum in normalized_spectra[:5]:\n",
    "    plt.plot(spectrum)"
   ]
  },
  {
   "cell_type": "code",
   "execution_count": null,
   "metadata": {},
   "outputs": [],
   "source": [
    "wavelengths = np.linspace(500e-10, 5.5e-6, len(normalized_spectra[22]))"
   ]
  },
  {
   "cell_type": "code",
   "execution_count": null,
   "metadata": {},
   "outputs": [],
   "source": [
    "#plt.figure(dpi=300, figsize=(20, 15))\n",
    "plt.figure(figsize=(20, 15))\n",
    "plt.rcParams.update({'font.size': 24})\n",
    "plt.plot(wavelengths*1e6, normalized_spectra[22])\n",
    "#plt.plot(normalized_spectra[23])\n",
    "plt.xlabel('wavelength ($\\mu m$)')\n",
    "plt.ylabel('normalized intensity')"
   ]
  },
  {
   "cell_type": "code",
   "execution_count": null,
   "metadata": {
    "scrolled": true
   },
   "outputs": [],
   "source": [
    "start, stop = 0, -1#700000, 700000+2**15\n",
    "plt.figure(figsize=(40,10))\n",
    "for spectrum in normalized_spectra[:50]:\n",
    "    plt.plot(spectrum[start:stop])\n",
    "plt.xlim(12000, 14000)"
   ]
  },
  {
   "cell_type": "code",
   "execution_count": null,
   "metadata": {},
   "outputs": [],
   "source": [
    "normalized_spectra = np.array([spectrum / np.max(spectrum) for spectrum in spectra])\n",
    "#TODO: use np"
   ]
  },
  {
   "cell_type": "code",
   "execution_count": null,
   "metadata": {},
   "outputs": [],
   "source": [
    "normalized_spectra = spectra / np.max(spectra, axis=1)[:, np.newaxis]"
   ]
  },
  {
   "cell_type": "code",
   "execution_count": null,
   "metadata": {},
   "outputs": [],
   "source": [
    "Y = np.matmul(normalized_spectra, normalized_spectra.T)"
   ]
  },
  {
   "cell_type": "code",
   "execution_count": null,
   "metadata": {},
   "outputs": [],
   "source": [
    "plt.plot(Y[0])"
   ]
  },
  {
   "cell_type": "code",
   "execution_count": null,
   "metadata": {
    "scrolled": false
   },
   "outputs": [],
   "source": [
    "u, s, vh = np.linalg.svd(Y)\n",
    "print(s)"
   ]
  },
  {
   "cell_type": "code",
   "execution_count": null,
   "metadata": {
    "scrolled": false
   },
   "outputs": [],
   "source": [
    "plt.plot(range(1, 11), s[:10] / s[0])\n",
    "plt.xlabel(\"singular value index\")\n",
    "plt.xticks(range(1, 11))\n",
    "plt.ylabel(\"squared singular value (normalized by largest)\")"
   ]
  },
  {
   "cell_type": "code",
   "execution_count": null,
   "metadata": {
    "scrolled": true
   },
   "outputs": [],
   "source": [
    "plt.plot(range(1, 11), np.sqrt(s[:10]) / np.sqrt(s[0]))\n",
    "plt.xlabel(\"singular value index\")\n",
    "plt.xticks(range(1, 11))\n",
    "plt.ylabel(\"singular value (normalized by largest)\")"
   ]
  },
  {
   "cell_type": "code",
   "execution_count": null,
   "metadata": {},
   "outputs": [],
   "source": [
    "from datetime import datetime\n",
    "import tables\n",
    "import matplotlib.pyplot as plt"
   ]
  },
  {
   "cell_type": "code",
   "execution_count": null,
   "metadata": {},
   "outputs": [],
   "source": [
    "file = np.load('output/output-190910-154018.npz')\n",
    "ws = file['ws']\n",
    "bs = file['bs']"
   ]
  },
  {
   "cell_type": "code",
   "execution_count": null,
   "metadata": {},
   "outputs": [],
   "source": [
    "h5file = tables.open_file('data/sample_8k.h5', 'r')\n",
    "h5node = h5file.get_node('/spectra')\n",
    "\n",
    "spectra = h5node[:100]['spectrum']\n",
    "normalized_spectra = spectra / np.max(spectra, axis=1)[:, np.newaxis]\n",
    "\n",
    "h5file.close()"
   ]
  },
  {
   "cell_type": "code",
   "execution_count": null,
   "metadata": {},
   "outputs": [],
   "source": [
    "def recreate_spectra(spectrum, ws, bs):\n",
    "    NUM_FEATURES = 40\n",
    "    s = np.copy(spectrum)\n",
    "    i = 0\n",
    "    while i < len(ws):\n",
    "        #print(i, ws[i].shape, s.shape)\n",
    "        if (np.size(ws[i], 0) != np.size(s, 0)): # check if we're at the sampling step and sample\n",
    "            s = np.random.normal(s[:NUM_FEATURES], s[NUM_FEATURES:], (NUM_FEATURES,))\n",
    "        else:\n",
    "            s = np.clip(ws[i].T @ s + bs[i], 0, None)\n",
    "            i = i + 1\n",
    "    return s"
   ]
  },
  {
   "cell_type": "code",
   "execution_count": null,
   "metadata": {
    "scrolled": true
   },
   "outputs": [],
   "source": [
    "INDEX = 1\n",
    "recreation = recreate_spectra(normalized_spectra[INDEX][700000:750000], ws, bs)\n",
    "#left, right = [int(i * SPECTRA_FEATURES) for i in (0, 1)]\n",
    "left, right = 700000, 750000\n",
    "plt.figure(figsize=(40,10))\n",
    "plt.plot(recreation)\n",
    "plt.plot(normalized_spectra[INDEX][700000:750000])"
   ]
  },
  {
   "cell_type": "code",
   "execution_count": null,
   "metadata": {},
   "outputs": [],
   "source": [
    "h5file = tables.open_file('data/sample_8k.h5', 'r')\n",
    "h5node = h5file.get_node('/spectra')"
   ]
  },
  {
   "cell_type": "code",
   "execution_count": null,
   "metadata": {},
   "outputs": [],
   "source": [
    "log_gs = h5node[:2000][\"log_g\"]\n",
    "T_effs = h5node[:2000][\"T_eff\"]"
   ]
  },
  {
   "cell_type": "code",
   "execution_count": null,
   "metadata": {},
   "outputs": [],
   "source": [
    "%time data = [(x['log_g'], x['T_eff']) for x in h5node.iterrows()]"
   ]
  },
  {
   "cell_type": "code",
   "execution_count": null,
   "metadata": {},
   "outputs": [],
   "source": [
    "log_gs = np.array(data)[:, 0]\n",
    "T_effs = np.array(data)[:, 1]"
   ]
  },
  {
   "cell_type": "code",
   "execution_count": null,
   "metadata": {
    "scrolled": true
   },
   "outputs": [],
   "source": [
    "plt.scatter(log_gs, T_effs, alpha=.05)"
   ]
  },
  {
   "cell_type": "code",
   "execution_count": null,
   "metadata": {
    "scrolled": true
   },
   "outputs": [],
   "source": [
    "plt.hist(log_gs)"
   ]
  },
  {
   "cell_type": "code",
   "execution_count": null,
   "metadata": {},
   "outputs": [],
   "source": [
    "plt.hist(T_effs)"
   ]
  },
  {
   "cell_type": "code",
   "execution_count": null,
   "metadata": {},
   "outputs": [],
   "source": [
    "h5file.close()"
   ]
  }
 ],
 "metadata": {
  "kernelspec": {
   "display_name": "env",
   "language": "python",
   "name": "env"
  },
  "language_info": {
   "codemirror_mode": {
    "name": "ipython",
    "version": 3
   },
   "file_extension": ".py",
   "mimetype": "text/x-python",
   "name": "python",
   "nbconvert_exporter": "python",
   "pygments_lexer": "ipython3",
   "version": "3.5.2"
  }
 },
 "nbformat": 4,
 "nbformat_minor": 2
}
