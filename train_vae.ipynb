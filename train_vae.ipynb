{
 "cells": [
  {
   "cell_type": "code",
   "execution_count": null,
   "metadata": {},
   "outputs": [],
   "source": [
    "import tftables\n",
    "import tensorflow as tf\n",
    "import matplotlib.pyplot as plt\n",
    "import numpy as np\n",
    "from tqdm.notebook import tqdm\n",
    "\n",
    "from vae import VariationalAutoencoder\n",
    "from conv_vae import ConvolutionalVAE\n",
    "from data import toy_data\n",
    "from data import data_loader\n",
    "\n",
    "%matplotlib inline\n",
    "%load_ext autoreload\n",
    "%autoreload 2"
   ]
  },
  {
   "cell_type": "code",
   "execution_count": null,
   "metadata": {},
   "outputs": [],
   "source": [
    "sess = tf.compat.v1.InteractiveSession()\n",
    "tf.compat.v1.disable_eager_execution()"
   ]
  },
  {
   "cell_type": "code",
   "execution_count": null,
   "metadata": {},
   "outputs": [],
   "source": [
    "network_architecture = {\n",
    "    'input_size': 2**15,\n",
    "    'latent_representation_size': 40,\n",
    "    'encoder_layer_sizes': [2**15, 100, 100, 90, 90, 80, 80, 80],\n",
    "    'decoder_layer_sizes': [40, 80, 80, 90, 90, 100, 100, 2**15],\n",
    "    'label_predictor_layer_sizes': [40, 40, 20, 20, 10, 10, 5, 5, 3]\n",
    "}\n",
    "n_data = 16000\n",
    "learning_rate = .0005\n",
    "batch_size = 50"
   ]
  },
  {
   "cell_type": "code",
   "execution_count": null,
   "metadata": {},
   "outputs": [],
   "source": [
    "spectra, labels = toy_data.generate_spectra(n_data, network_architecture['input_size'])\n",
    "labels = labels[:, 1:] # ignore temperature (leaving A, mu, sigma)"
   ]
  },
  {
   "cell_type": "code",
   "execution_count": null,
   "metadata": {},
   "outputs": [],
   "source": [
    "input_stream, label_stream, initialize_stream = (\n",
    "    data_loader.create_loader_from_array(sess, batch_size, spectra, labels)\n",
    ")"
   ]
  },
  {
   "cell_type": "code",
   "execution_count": null,
   "metadata": {
    "scrolled": false
   },
   "outputs": [],
   "source": [
    "vae = VariationalAutoencoder(sess, network_architecture, input_stream, label_stream, learning_rate, batch_size)"
   ]
  },
  {
   "cell_type": "code",
   "execution_count": null,
   "metadata": {},
   "outputs": [],
   "source": [
    "total_batches = int(n_data / batch_size)\n",
    "\n",
    "costs = []\n",
    "l1_costs = []\n",
    "l2_costs = []\n",
    "l_costs = []\n",
    "label_costs = []"
   ]
  },
  {
   "cell_type": "code",
   "execution_count": null,
   "metadata": {
    "scrolled": true
   },
   "outputs": [],
   "source": [
    "training_epochs = 25\n",
    "\n",
    "for epoch in tqdm(range(1, training_epochs + 1), desc='Epochs'):\n",
    "    initialize_stream()\n",
    "    with tqdm(total=total_batches) as pbar:\n",
    "        for batch in range(total_batches):\n",
    "            pbar.set_description('Epoch ' + str(epoch))\n",
    "            _, cost, l1_loss, r_cost, l_cost, _, m_cost = vae.optimize()\n",
    "\n",
    "            costs += [cost]\n",
    "            l1_costs += [l1_loss]\n",
    "            l2_costs += [r_cost]\n",
    "            l_costs += [l_cost]\n",
    "            label_costs += [m_cost]\n",
    "            \n",
    "            pbar.set_postfix(loss=cost, l1=l1_loss, r=r_cost, l=l_cost, m=m_cost)\n",
    "            pbar.update()"
   ]
  },
  {
   "cell_type": "code",
   "execution_count": null,
   "metadata": {},
   "outputs": [],
   "source": [
    "# compare to Epoch 20 Batch 160 Iter 003200 | r_cost=17809.174 l_cost=1558.191 l1_loss=0.032 time=8.9"
   ]
  },
  {
   "cell_type": "code",
   "execution_count": null,
   "metadata": {},
   "outputs": [],
   "source": [
    "plt.figure(figsize=(16, 6))\n",
    "plt.subplot(2, 1, 1)\n",
    "plt.plot(costs)\n",
    "plt.plot(l2_costs)\n",
    "plt.plot(l_costs)\n",
    "plt.yscale('log')\n",
    "\n",
    "plt.subplot(2, 1, 2)\n",
    "plt.plot(label_costs)\n",
    "plt.yscale('log')"
   ]
  },
  {
   "cell_type": "code",
   "execution_count": null,
   "metadata": {},
   "outputs": [],
   "source": [
    "i = np.random.randint(0, n_data)\n",
    "spectrum = spectra[i]\n",
    "print(i)"
   ]
  },
  {
   "cell_type": "code",
   "execution_count": null,
   "metadata": {},
   "outputs": [],
   "source": [
    "reconstruction = vae.reconstruct(spectrum)"
   ]
  },
  {
   "cell_type": "code",
   "execution_count": null,
   "metadata": {},
   "outputs": [],
   "source": [
    "plt.figure(figsize=(16, 12))\n",
    "plt.subplot(2, 1, 1)\n",
    "plt.plot(spectrum)\n",
    "reconstruction[reconstruction == 0] = np.nan # get rid of zeros just for the plot\n",
    "plt.plot(reconstruction)\n",
    "\n",
    "plt.subplot(2, 1, 2)\n",
    "plt.plot(spectrum - reconstruction)"
   ]
  },
  {
   "cell_type": "code",
   "execution_count": null,
   "metadata": {},
   "outputs": [],
   "source": [
    "outfile_name = 'output/output-{}'.format(datetime.now().strftime('%y%m%d-%H%M%S'))\n",
    "vae.save(outfile_name)"
   ]
  },
  {
   "cell_type": "code",
   "execution_count": null,
   "metadata": {},
   "outputs": [],
   "source": [
    "vae.restore('output/output-191002-000332')"
   ]
  },
  {
   "cell_type": "code",
   "execution_count": null,
   "metadata": {
    "scrolled": true
   },
   "outputs": [],
   "source": [
    "vae.close()"
   ]
  }
 ],
 "metadata": {
  "kernelspec": {
   "display_name": "env",
   "language": "python",
   "name": "env"
  },
  "language_info": {
   "codemirror_mode": {
    "name": "ipython",
    "version": 3
   },
   "file_extension": ".py",
   "mimetype": "text/x-python",
   "name": "python",
   "nbconvert_exporter": "python",
   "pygments_lexer": "ipython3",
   "version": "3.6.3"
  }
 },
 "nbformat": 4,
 "nbformat_minor": 2
}
